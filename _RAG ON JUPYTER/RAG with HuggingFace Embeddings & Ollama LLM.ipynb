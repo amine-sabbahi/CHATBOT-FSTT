{
 "cells": [
  {
   "cell_type": "code",
   "execution_count": 1,
   "id": "058a0aa5",
   "metadata": {},
   "outputs": [],
   "source": [
    "import argparse\n",
    "import os\n",
    "import shutil\n",
    "from langchain.document_loaders.pdf import PyPDFDirectoryLoader\n",
    "from langchain_text_splitters import RecursiveCharacterTextSplitter\n",
    "from langchain.schema.document import Document\n",
    "from langchain.vectorstores.chroma import Chroma\n",
    "from langchain_community.embeddings import HuggingFaceEmbeddings\n",
    "from langchain.prompts import ChatPromptTemplate\n",
    "from langchain_community.llms.ollama import Ollama"
   ]
  },
  {
   "cell_type": "code",
   "execution_count": 2,
   "id": "a5fdd9b7",
   "metadata": {},
   "outputs": [],
   "source": [
    "CHROMA_PATH = \"chroma\"\n",
    "DATA_PATH = \"data\""
   ]
  },
  {
   "cell_type": "code",
   "execution_count": 3,
   "id": "0ce808d5",
   "metadata": {},
   "outputs": [],
   "source": [
    "def load_documents():\n",
    "    document_loader = PyPDFDirectoryLoader(DATA_PATH)\n",
    "    print(\"Loading documents...\")\n",
    "    documents = document_loader.load()\n",
    "    print(f\"Loaded {len(documents)} documents.\")\n",
    "    return documents\n",
    "\n",
    "def split_documents(documents: list[Document]):\n",
    "    text_splitter = RecursiveCharacterTextSplitter(\n",
    "        chunk_size=800,\n",
    "        chunk_overlap=100,\n",
    "        length_function=len,\n",
    "        is_separator_regex=False,\n",
    "    )\n",
    "    print(\"Splitting documents into chunks...\")\n",
    "    chunks = text_splitter.split_documents(documents)\n",
    "    print(f\"Split into {len(chunks)} chunks.\")\n",
    "    return chunks\n",
    "\n",
    "def add_to_chroma(chunks: list[Document]):\n",
    "    # Load the existing database.\n",
    "    print(\"Loading Chroma database...\")\n",
    "    db = Chroma(\n",
    "        persist_directory=CHROMA_PATH, embedding_function=get_embedding_function()\n",
    "    )\n",
    "    \n",
    "    # Calculate Page IDs.\n",
    "    chunks_with_ids = calculate_chunk_ids(chunks)\n",
    "    \n",
    "    # Add or Update the documents.\n",
    "    existing_items = db.get(include=[])  # IDs are always included by default\n",
    "    existing_ids = set(existing_items[\"ids\"])\n",
    "    print(f\"Number of existing documents in DB: {len(existing_ids)}\")\n",
    "\n",
    "    # Only add documents that don't exist in the DB.\n",
    "    new_chunks = [chunk for chunk in chunks_with_ids if chunk.metadata[\"id\"] not in existing_ids]\n",
    "\n",
    "    if new_chunks:\n",
    "        print(f\"👉 Adding new documents: {len(new_chunks)}\")\n",
    "        new_chunk_ids = [chunk.metadata[\"id\"] for chunk in new_chunks]\n",
    "        db.add_documents(new_chunks, ids=new_chunk_ids)\n",
    "        db.persist()\n",
    "        print(\"Documents added and database persisted.\")\n",
    "    else:\n",
    "        print(\"✅ No new documents to add\")\n",
    "\n",
    "def calculate_chunk_ids(chunks: list[Document]):\n",
    "    print(\"Calculating chunk IDs...\")\n",
    "    last_page_id = None\n",
    "    current_chunk_index = 0\n",
    "\n",
    "    for chunk in chunks:\n",
    "        source = chunk.metadata.get(\"source\")\n",
    "        page = chunk.metadata.get(\"page\")\n",
    "        current_page_id = f\"{source}:{page}\"\n",
    "\n",
    "        # If the page ID is the same as the last one, increment the index.\n",
    "        if current_page_id == last_page_id:\n",
    "            current_chunk_index += 1\n",
    "        else:\n",
    "            current_chunk_index = 0\n",
    "\n",
    "        # Calculate the chunk ID.\n",
    "        chunk_id = f\"{current_page_id}:{current_chunk_index}\"\n",
    "        last_page_id = current_page_id\n",
    "\n",
    "        # Add it to the page meta-data.\n",
    "        chunk.metadata[\"id\"] = chunk_id\n",
    "\n",
    "    print(\"Chunk IDs calculated.\")\n",
    "    return chunks\n",
    "\n",
    "def clear_database():\n",
    "    if os.path.exists(CHROMA_PATH):\n",
    "        print(\"Clearing database...\")\n",
    "        shutil.rmtree(CHROMA_PATH)\n",
    "        print(\"Database cleared.\")"
   ]
  },
  {
   "cell_type": "code",
   "execution_count": 6,
   "id": "405700e8",
   "metadata": {},
   "outputs": [],
   "source": [
    "from transformers import AutoModel, AutoTokenizer\n",
    "from langchain.embeddings.huggingface import HuggingFaceEmbeddings\n",
    "import os\n",
    "\n",
    "# Step 1: Download the model\n",
    "def download_model(model_name: str, local_model_path: str):\n",
    "    if not os.path.exists(local_model_path):\n",
    "        os.makedirs(local_model_path)\n",
    "        # Download the model and tokenizer\n",
    "        model = AutoModel.from_pretrained(model_name)\n",
    "        tokenizer = AutoTokenizer.from_pretrained(model_name)\n",
    "        # Save the model and tokenizer locally\n",
    "        model.save_pretrained(local_model_path)\n",
    "        tokenizer.save_pretrained(local_model_path)\n",
    "    else:\n",
    "        print(f\"Model already exists at {local_model_path}\")"
   ]
  },
  {
   "cell_type": "code",
   "execution_count": 8,
   "id": "cc61f842",
   "metadata": {},
   "outputs": [],
   "source": [
    "download_model(\"sentence-transformers/all-mpnet-base-v2\", \"./local_models/sentence-transformers/all-mpnet-base-v2\")"
   ]
  },
  {
   "cell_type": "code",
   "execution_count": 9,
   "id": "8213b3bd",
   "metadata": {},
   "outputs": [],
   "source": [
    "from langchain.embeddings.huggingface import HuggingFaceEmbeddings\n",
    "\n",
    "def get_embedding_function():\n",
    "    local_model_path = \"./local_models/sentence-transformers/all-mpnet-base-v2\"\n",
    "    if local_model_path:\n",
    "        embeddings = HuggingFaceEmbeddings(model_name=local_model_path)\n",
    "    return embeddings"
   ]
  },
  {
   "cell_type": "code",
   "execution_count": 10,
   "id": "48c1d6bf",
   "metadata": {
    "scrolled": true
   },
   "outputs": [
    {
     "name": "stdout",
     "output_type": "stream",
     "text": [
      "Loading documents...\n"
     ]
    },
    {
     "name": "stderr",
     "output_type": "stream",
     "text": [
      "No sentence-transformers model found with name ./local_models/sentence-transformers/all-mpnet-base-v2. Creating a new one with MEAN pooling.\n"
     ]
    },
    {
     "name": "stdout",
     "output_type": "stream",
     "text": [
      "Loaded 61 documents.\n",
      "Splitting documents into chunks...\n",
      "Split into 153 chunks.\n",
      "Loading Chroma database...\n",
      "Calculating chunk IDs...\n",
      "Chunk IDs calculated.\n",
      "Number of existing documents in DB: 0\n",
      "👉 Adding new documents: 153\n",
      "Documents added and database persisted.\n"
     ]
    },
    {
     "name": "stderr",
     "output_type": "stream",
     "text": [
      "C:\\Users\\HP\\anaconda3\\Lib\\site-packages\\langchain_core\\_api\\deprecation.py:119: LangChainDeprecationWarning: Since Chroma 0.4.x the manual persistence method is no longer supported as docs are automatically persisted.\n",
      "  warn_deprecated(\n"
     ]
    }
   ],
   "source": [
    "# Create (or update) the data store.\n",
    "documents = load_documents()\n",
    "chunks = split_documents(documents)\n",
    "add_to_chroma(chunks)"
   ]
  },
  {
   "cell_type": "code",
   "execution_count": 2,
   "id": "a6d60f66",
   "metadata": {},
   "outputs": [],
   "source": [
    "PROMPT_TEMPLATE = \"\"\"\n",
    "Répondez à la question en vous basant uniquement sur le contexte suivant :\n",
    "\n",
    "{context}\n",
    "\n",
    "---\n",
    "\n",
    "Répondez à la question en fonction du contexte ci-dessus : {question}\n",
    "\"\"\""
   ]
  },
  {
   "cell_type": "code",
   "execution_count": 6,
   "id": "a5de102e",
   "metadata": {},
   "outputs": [],
   "source": [
    "PROMPT_TEMPLATE = \"\"\"\n",
    "Répondez à la question en vous basant uniquement sur le contexte suivant :\n",
    "\n",
    "{context}\n",
    "\n",
    "---\n",
    "\n",
    "Répondez à la question en fonction du contexte ci-dessus : {question}\n",
    "\"\"\"\n",
    "\n",
    "# Initialize the model and move it to the GPU if available\n",
    "model = Ollama(model=\"gemma:2b-instruct\")\n",
    "\n",
    "def is_response_relevant(response_text, query_text):\n",
    "    # Implement a simple relevance check (this can be more sophisticated)\n",
    "    # For example, check if key terms from the query are in the response\n",
    "    return any(term in response_text.lower() for term in query_text.lower().split())\n",
    "\n",
    "def query_rag(query_text: str):\n",
    "    # Prepare the DB.\n",
    "    embedding_function = get_embedding_function()\n",
    "    db = Chroma(persist_directory=CHROMA_PATH, embedding_function=embedding_function)\n",
    "\n",
    "    # Initial search in the DB.\n",
    "    results = db.similarity_search_with_score(query_text, k=5)\n",
    "    context_text = \"\\n\\n---\\n\\n\".join([doc.page_content for doc, _score in results])\n",
    "    \n",
    "    prompt_template = ChatPromptTemplate.from_template(PROMPT_TEMPLATE)\n",
    "    prompt = prompt_template.format(context=context_text, question=query_text)\n",
    "    \n",
    "    # Ensure the model uses the GPU\n",
    "    model.eval()  # Set the model to evaluation mode\n",
    "    \n",
    "    while True:\n",
    "        with torch.no_grad():  # Disable gradient calculation\n",
    "            prompt = prompt\n",
    "            response_text = model.invoke(prompt)\n",
    "\n",
    "        if is_response_relevant(response_text, query_text):\n",
    "            break\n",
    "        else:\n",
    "            # Fetch additional context if the response is not relevant\n",
    "            additional_results = db.similarity_search_with_score(query_text, k=5, skip=len(results))\n",
    "            if not additional_results:\n",
    "                break  # No more context available, exit loop\n",
    "            results.extend(additional_results)\n",
    "            context_text = \"\\n\\n---\\n\\n\".join([doc.page_content for doc, _score in results])\n",
    "            prompt = prompt_template.format(context=context_text, question=query_text)\n",
    "\n",
    "    sources = [doc.metadata.get(\"id\", None) for doc, _score in results]\n",
    "    formatted_response = f\"Response: {response_text}\\nSources: {sources}\"\n",
    "    print(formatted_response)\n",
    "    return formatted_response\n",
    "\n",
    "# Add a check for unrelated queries\n",
    "def handle_query(query_text: str):\n",
    "    if not query_text.strip().endswith(\"?\"):  # Simple check for non-question prompts\n",
    "        return f\"Response: {query_text}\\nSources: []\"\n",
    "    else:\n",
    "        return query_rag(query_text)\n"
   ]
  },
  {
   "cell_type": "code",
   "execution_count": null,
   "id": "b2645cc7",
   "metadata": {},
   "outputs": [
    {
     "name": "stderr",
     "output_type": "stream",
     "text": [
      "No sentence-transformers model found with name ./local_models/sentence-transformers/all-mpnet-base-v2. Creating a new one with MEAN pooling.\n"
     ]
    }
   ],
   "source": [
    "print(handle_query(\"Hey, how are you?\"))"
   ]
  },
  {
   "cell_type": "code",
   "execution_count": 19,
   "id": "f161894c",
   "metadata": {},
   "outputs": [
    {
     "name": "stderr",
     "output_type": "stream",
     "text": [
      "No sentence-transformers model found with name ./local_models/sentence-transformers/all-mpnet-base-v2. Creating a new one with MEAN pooling.\n"
     ]
    },
    {
     "name": "stdout",
     "output_type": "stream",
     "text": [
      "Response: Les formations de FSTT sont des programmes de formation ouverte aux étudiants de différents niveaux de niveau pour acquérir des connaissances, des aptitudes et des compétences en relation avec les technologies.\n",
      "\n",
      "Ces formations peuvent être divisées en deux groupes:\n",
      "\n",
      "- **Formation de base en sciences et techniques** (BCG) : cette formation vise à donner aux étudiants les bases solides en sciences, en mathématiques, en informatique et en gestion des procédés industriels.\n",
      "- **Formation en photographie et en prise de vue** (club - photographie, club - enactus) : cette formation vise à donner aux étudiants des compétences en photographie, en prise de vue et à développer leur créativité.\n",
      "Sources: ['data\\\\FST TANGER.pdf:50:2', 'data\\\\FST TANGER.pdf:34:0', 'data\\\\FST TANGER.pdf:6:0', 'data\\\\FST TANGER.pdf:44:0', 'data\\\\FST TANGER.pdf:42:1']\n"
     ]
    },
    {
     "data": {
      "text/plain": [
       "[(Document(page_content='Tech niques  \\n \\nLA PAGE DE Conseil de l’établissement  : \\n - Lien de page: https://fstt.ac.ma/Portail2023/conseil -de-letablissement/  \\n \\nLa Faculté est gérée par un conseil d’établissement présidé par le Doyen. Le conseil de l’établissement \\ncomprend des membres de droit, d es représentants élus des personnels enseignants et des personnels \\nadministratifs et techniques, des représentants élus des étudiants, ainsi que des membres désignés \\nparmi des personnalités extérieures.  \\n-Member : DIANI Mustapha - Responsabilité : Doyen  \\n-Member : JBILOU Mohammed - Responsabilité : Vice Doyen de la Formation  \\n-Member : OUARDOUZ Mustapha - Responsabilité : Vice Doyen de la Recherche et de la coopération', metadata={'id': 'data\\\\FST TANGER.pdf:50:2', 'page': 50, 'source': 'data\\\\FST TANGER.pdf'}),\n",
       "  6.028841038892545),\n",
       " (Document(page_content=\"LES FORMATIONS DEUST DE FST TANGER  :  \\n- Lien de page: https://fstt.ac.ma/Portail2023/deust/  \\n \\n=====================================================================================\\n===============  \\nLien de page: https://fstt.ac.ma/Portail2023/biologie -chimie -geologie/  \\n \\nLes objectifs de format ion: \\n \\nLe tronc commun BCG est un cursus qui comporte un ensemble de modules pris dans plusieurs champs \\ndisciplinaires et ayant pour objectif de faire acquérir des connaissances, des aptitudes et des \\ncompétences. Donner à l’étudiant les outils méthodologiqu e pour qu’il puisse organiser son travail et \\ndévelopper un esprit de synthèse, de rigueur et d’initiative.  \\nL’objectif de cette formation et de donner à l’étudiant les possibilités d'orienter sa carrière vers les\", metadata={'id': 'data\\\\FST TANGER.pdf:34:0', 'page': 34, 'source': 'data\\\\FST TANGER.pdf'}),\n",
       "  6.044837951660156),\n",
       " (Document(page_content='-Projet de fin d’études  \\n \\n=================================================================================== ==\\n===============  \\nLien de page: https://fstt.ac.ma/Portail2023/lst -8-genie -des-procedes/  \\n \\nLes objectifs de formation:  \\n \\nFormation visant à donner aux étudiants des bases solides en chimie, physique, mathématiques, \\ninformatique et de gestion des procédés ind ustriels. Les lauréats de la formation seront capables de \\nconduire des ateliers de fabrication continue et séquentielle, de manager une équipe, de connaître et de \\nprendre en compte les contraintes de sécurité, d’environnement et de l’organisation scientifi que du \\ntravail.  \\nMettre l’étudiant au cœur des problèmes technologique réel qu’il devra résoudre.', metadata={'id': 'data\\\\FST TANGER.pdf:6:0', 'page': 6, 'source': 'data\\\\FST TANGER.pdf'}),\n",
       "  6.385698318481445),\n",
       " (Document(page_content='===================================================================== ================\\n===============  \\nLien de page: https://fstt.ac.ma/Portail2023/club -echec -mat/  \\n \\nLes objectifs de formation:  \\n \\nhttps://www.facebook.com/pages/Club -Echec -et-Mat-FSTT -Officiel/234932153232250  \\n \\n===================================================== ================================\\n===============  \\nLien de page: https://fstt.ac.ma/Portail2023/club -enactus/  \\n \\nLes objectifs de formation:  \\n \\nL’équipe ENACTUS  de la  Faculté des Sciences et Techniques de Tanger, est crée en novembre 2011,et \\nest constituée des doctorants, des élèves ingénieurs, des étudiants en master et des licenciés. Elle \\nappartient à l’ONG mondiale  Enactus, une organisation à but non lucratif, implantée dans plus de 48', metadata={'id': 'data\\\\FST TANGER.pdf:44:0', 'page': 44, 'source': 'data\\\\FST TANGER.pdf'}),\n",
       "  6.671168522554807),\n",
       " (Document(page_content='d’intérieur, un stylisme ou un simple dessin à la main.  \\nD’un autre coté c’est un club de photographie, de prise de vue selon plusieurs angles, et qui diffère selon \\nl’expérience et la créativité de chaque photographe. Et ce qu’on veut dire par l e mot Photographie, non \\npas des prises ordinaires et simples, mais des prises ayant un certain charme respectant plusieurs lois de \\nbase pour donner une belle allure au résultat voulu.  \\nCe club est créé bien sûre pour accomplir quelque buts et parmi elles :  \\n–  Donner naissance à la flamme de création et créativité chez les esprits scientifiques.  \\n–  Approfondir le contact entre les étudiants de la faculté et développer leur compétences \\ncommunicatives et aussi artistiques.', metadata={'id': 'data\\\\FST TANGER.pdf:42:1', 'page': 42, 'source': 'data\\\\FST TANGER.pdf'}),\n",
       "  7.142000200895445)]"
      ]
     },
     "execution_count": 19,
     "metadata": {},
     "output_type": "execute_result"
    }
   ],
   "source": [
    "query_rag(\"les formation de FSTT ?\")"
   ]
  },
  {
   "cell_type": "code",
   "execution_count": null,
   "id": "2279f636",
   "metadata": {},
   "outputs": [],
   "source": []
  },
  {
   "cell_type": "code",
   "execution_count": null,
   "id": "68be0769",
   "metadata": {},
   "outputs": [],
   "source": []
  }
 ],
 "metadata": {
  "kernelspec": {
   "display_name": "Python 3 (ipykernel)",
   "language": "python",
   "name": "python3"
  },
  "language_info": {
   "codemirror_mode": {
    "name": "ipython",
    "version": 3
   },
   "file_extension": ".py",
   "mimetype": "text/x-python",
   "name": "python",
   "nbconvert_exporter": "python",
   "pygments_lexer": "ipython3",
   "version": "3.11.5"
  }
 },
 "nbformat": 4,
 "nbformat_minor": 5
}
